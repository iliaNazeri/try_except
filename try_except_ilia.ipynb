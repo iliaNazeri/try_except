{
 "cells": [
  {
   "cell_type": "code",
   "execution_count": 2,
   "metadata": {},
   "outputs": [
    {
     "name": "stdout",
     "output_type": "stream",
     "text": [
      "You chose: Rock \n",
      "    _______\n",
      "---'   ____)\n",
      "      (_____)\n",
      "      (_____)\n",
      "      (____)\n",
      "---.__(___)\n",
      "\n",
      "The computer chose: Scissors \n",
      "    _______\n",
      "---'   ____)____\n",
      "          ______)\n",
      "       __________)\n",
      "      (____)\n",
      "---.__(___)\n",
      "\n",
      "You win!\n"
     ]
    }
   ],
   "source": [
    "import random\n",
    "\n",
    "\n",
    "rock = '''\n",
    "    _______\n",
    "---'   ____)\n",
    "      (_____)\n",
    "      (_____)\n",
    "      (____)\n",
    "---.__(___)\n",
    "'''\n",
    "\n",
    "paper = '''\n",
    "    _______\n",
    "---'   ____)____\n",
    "          ______)\n",
    "          _______)\n",
    "         _______)\n",
    "---.__________)\n",
    "'''\n",
    "\n",
    "scissors = '''\n",
    "    _______\n",
    "---'   ____)____\n",
    "          ______)\n",
    "       __________)\n",
    "      (____)\n",
    "---.__(___)\n",
    "'''\n",
    "\n",
    "\n",
    "choice = (input(\"What do you choose? Type 0 for Rock, 1 for Paper or 2 for Scissors\\n0/1/2:\"))\n",
    "computers_choice = random.randint(0,2)\n",
    "try:\n",
    "  choice = int(choice)\n",
    "  if choice == 0 or choice == 1 or choice == 2:\n",
    "   if choice == 0:\n",
    "      print(f\"You chose: Rock {rock}\")\n",
    "   elif choice == 1:\n",
    "      print(f\"You chose: Paper {paper}\")\n",
    "   elif choice == 2:\n",
    "      print(f\"You chose: Scissors {scissors}\")\n",
    "\n",
    "  if computers_choice == 0:\n",
    "      print(f\"The computer chose: Rock {rock}\")\n",
    "      if choice == 2:\n",
    "        print(\"You lose, Rock wins against scissors.\")\n",
    "      elif choice == 0:\n",
    "        print(\"It's a draw!\")\n",
    "      else:\n",
    "        print(\"You win!\")\n",
    "\n",
    "  elif computers_choice == 1:\n",
    "      print(f\"The computer chose: Paper {paper}\")\n",
    "      if choice == 0:\n",
    "        print(\"You lose, Paper wins against rock.\")\n",
    "      elif choice == 0:\n",
    "        print(\"It's a draw!\")\n",
    "      else:\n",
    "        print(\"You win!\")\n",
    "\n",
    "  elif computers_choice == 2:\n",
    "      print(f\"The computer chose: Scissors {scissors}\")\n",
    "      if choice == 1:\n",
    "        print(\"You lose, Scissors win against paper.\")\n",
    "      elif choice == 2:\n",
    "        print(\"It's a draw!\")\n",
    "      else:\n",
    "        print(\"You win!\")\n",
    "except:\n",
    "    print(\"You've entered an invalid value, try again and choose a number between 0-2.\")\n"
   ]
  }
 ],
 "metadata": {
  "kernelspec": {
   "display_name": "Python 3",
   "language": "python",
   "name": "python3"
  },
  "language_info": {
   "codemirror_mode": {
    "name": "ipython",
    "version": 3
   },
   "file_extension": ".py",
   "mimetype": "text/x-python",
   "name": "python",
   "nbconvert_exporter": "python",
   "pygments_lexer": "ipython3",
   "version": "3.11.1"
  },
  "orig_nbformat": 4,
  "vscode": {
   "interpreter": {
    "hash": "fd247c13dbadd0b0877533ca9741c8b9130dba32ca712ec4005fbe1430cf670e"
   }
  }
 },
 "nbformat": 4,
 "nbformat_minor": 2
}
